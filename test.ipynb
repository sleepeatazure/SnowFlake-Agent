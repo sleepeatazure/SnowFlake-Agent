{
 "cells": [
  {
   "cell_type": "code",
   "execution_count": 2,
   "metadata": {},
   "outputs": [
    {
     "name": "stdout",
     "output_type": "stream",
     "text": [
      "SELECT PRODUCT_NAME, PRICE FROM SALES.STG.PRODUCTS ORDER BY PRICE DESC LIMIT 1;\n",
      "closing cursor\n",
      "           0      1\n",
      "0  Product B  20.50\n"
     ]
    },
    {
     "data": {
      "text/html": [
       "<div>\n",
       "<style scoped>\n",
       "    .dataframe tbody tr th:only-of-type {\n",
       "        vertical-align: middle;\n",
       "    }\n",
       "\n",
       "    .dataframe tbody tr th {\n",
       "        vertical-align: top;\n",
       "    }\n",
       "\n",
       "    .dataframe thead th {\n",
       "        text-align: right;\n",
       "    }\n",
       "</style>\n",
       "<table border=\"1\" class=\"dataframe\">\n",
       "  <thead>\n",
       "    <tr style=\"text-align: right;\">\n",
       "      <th></th>\n",
       "      <th>PRODUCT_NAME</th>\n",
       "      <th>PRICE</th>\n",
       "    </tr>\n",
       "  </thead>\n",
       "  <tbody>\n",
       "    <tr>\n",
       "      <th>0</th>\n",
       "      <td>Product B</td>\n",
       "      <td>20.50</td>\n",
       "    </tr>\n",
       "  </tbody>\n",
       "</table>\n",
       "</div>"
      ],
      "text/plain": [
       "  PRODUCT_NAME  PRICE\n",
       "0    Product B  20.50"
      ]
     },
     "execution_count": 2,
     "metadata": {},
     "output_type": "execute_result"
    }
   ],
   "source": [
    "import snowflake.connector\n",
    "import pandas as pd\n",
    "#import streamlit as st\n",
    "\n",
    "conn = snowflake.connector.connect(\n",
    "    user=st.secrets[\"USER_NAME\"],\n",
    "    password=st.secrets[\"PASSWORD\"],\n",
    "    account=st.secrets[\"ACCOUNT\"],\n",
    "    warehouse=st.secrets[\"WAREHOUSE\"],\n",
    "    role=st.secrets[\"ROLE\"],\n",
    "    database=st.secrets[\"DATABASE\"],\n",
    "    schema=st.secrets[\"SCHEMA\"],\n",
    ")\n",
    "\n",
    "# Create a cursor object.\n",
    "cur = conn.cursor()\n",
    "\n",
    "\n",
    "# function - run sql query and return data\n",
    "def query_data_warehouse(sql: str, parameters=None) -> any:\n",
    "    \"\"\"\n",
    "    Executes snowflake sql query and returns result as data as dataframe.\n",
    "    Example of parameters\n",
    "    :param sql: sql query to be executed\n",
    "    :param parameters: named parameters used in the sql query (defaulted as None)\n",
    "    :return: dataframe\n",
    "    \"\"\"    \n",
    "    if parameters is None:\n",
    "        parameters = {}\n",
    "    query = sql\n",
    "    print(query)\n",
    "    \n",
    "    try:\n",
    "        cur.execute(\"USE DATABASE \" + st.secrets[\"DATABASE\"])\n",
    "        cur.execute(\"USE SCHEMA \" + st.secrets[\"SCHEMA\"])\n",
    "        cur.execute(query, parameters)\n",
    "        all_rows = cur.fetchall()\n",
    "        field_names = [i[0] for i in cur.description]\n",
    "        \n",
    "    except Exception as e:\n",
    "        return e\n",
    "    \n",
    "    finally:\n",
    "        print(\"closing cursor\")\n",
    "\n",
    "    df = pd.DataFrame(all_rows)\n",
    "    print(df)\n",
    "    df.columns = field_names\n",
    "    return df\n",
    "    \n",
    "\n",
    "query_data_warehouse('SELECT PRODUCT_NAME, PRICE FROM SALES.STG.PRODUCTS ORDER BY PRICE DESC LIMIT 1;')   "
   ]
  }
 ],
 "metadata": {
  "kernelspec": {
   "display_name": ".venv",
   "language": "python",
   "name": "python3"
  },
  "language_info": {
   "codemirror_mode": {
    "name": "ipython",
    "version": 3
   },
   "file_extension": ".py",
   "mimetype": "text/x-python",
   "name": "python",
   "nbconvert_exporter": "python",
   "pygments_lexer": "ipython3",
   "version": "3.9.0"
  },
  "orig_nbformat": 4
 },
 "nbformat": 4,
 "nbformat_minor": 2
}
